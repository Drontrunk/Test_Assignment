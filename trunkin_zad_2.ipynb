{
 "cells": [
  {
   "cell_type": "code",
   "execution_count": 3,
   "id": "59273dcb",
   "metadata": {},
   "outputs": [],
   "source": [
    "import random\n",
    " \n",
    "from collections import Counter, OrderedDict\n",
    "\n",
    "import string"
   ]
  },
  {
   "cell_type": "code",
   "execution_count": 14,
   "id": "df7b3ed2",
   "metadata": {},
   "outputs": [],
   "source": [
    "def function2(n_customers, n_first_id):\n",
    "    id = random.sample(range(1000000, 9999999), n_customers)\n",
    "#     map(int, str(n_first_id))\n",
    "    id[0] = n_first_id\n",
    "    result = list()\n",
    "    def sum_digits(n):\n",
    "       r = 0\n",
    "       while n:\n",
    "           r, n = r + n % 10, n // 10\n",
    "       return r\n",
    "    for i in range(len(id)):\n",
    "        n = id[i]\n",
    "        a = sum_digits(n)\n",
    "        result.append(a)\n",
    "    class OrderedCounter(Counter, OrderedDict):\n",
    "     def __repr__(self):\n",
    "         return '%s(%r)' % (self.__class__.__name__,\n",
    "                            OrderedDict(self))\n",
    "     def __reduce__(self):\n",
    "         return self.__class__, (OrderedDict(self),)\n",
    "    counts = OrderedCounter(result)\n",
    "    display(counts)"
   ]
  },
  {
   "cell_type": "code",
   "execution_count": null,
   "id": "c11a5c56",
   "metadata": {},
   "outputs": [],
   "source": [
    "# id = random.sample(range(1000000, 9999999), 100)\n",
    "# print(id)"
   ]
  },
  {
   "cell_type": "code",
   "execution_count": null,
   "id": "361522a7",
   "metadata": {},
   "outputs": [],
   "source": [
    "# result = list()\n",
    "# def sum_digits(n):\n",
    "#    r = 0\n",
    "#    while n:\n",
    "#        r, n = r + n % 10, n // 10\n",
    "#    return r\n",
    "# for i in range(len(id)):\n",
    "#     n = id[i]\n",
    "#     a = sum_digits(n)\n",
    "#     result.append(a)\n",
    "# display(result)"
   ]
  },
  {
   "cell_type": "code",
   "execution_count": null,
   "id": "62d70669",
   "metadata": {},
   "outputs": [],
   "source": [
    "# class OrderedCounter(Counter, OrderedDict):\n",
    "#      def __repr__(self):\n",
    "#          return '%s(%r)' % (self.__class__.__name__,\n",
    "#                             OrderedDict(self))\n",
    "#      def __reduce__(self):\n",
    "#          return self.__class__, (OrderedDict(self),)\n",
    "# counts = OrderedCounter(result)\n",
    "# counts"
   ]
  },
  {
   "cell_type": "code",
   "execution_count": 15,
   "id": "b028c8fc",
   "metadata": {},
   "outputs": [
    {
     "data": {
      "text/plain": [
       "OrderedCounter(OrderedDict([(32, 9), (29, 6), (25, 1), (39, 7), (26, 5), (28, 5), (36, 6), (44, 1), (19, 4), (34, 4), (46, 3), (20, 2), (23, 1), (18, 2), (43, 2), (27, 4), (17, 2), (35, 3), (31, 5), (41, 3), (16, 1), (45, 2), (42, 2), (30, 8), (22, 2), (24, 4), (40, 2), (38, 2), (33, 2)]))"
      ]
     },
     "metadata": {},
     "output_type": "display_data"
    }
   ],
   "source": [
    "function2(100, 7412567)"
   ]
  }
 ],
 "metadata": {
  "kernelspec": {
   "display_name": "Python 3",
   "language": "python",
   "name": "python3"
  },
  "language_info": {
   "codemirror_mode": {
    "name": "ipython",
    "version": 3
   },
   "file_extension": ".py",
   "mimetype": "text/x-python",
   "name": "python",
   "nbconvert_exporter": "python",
   "pygments_lexer": "ipython3",
   "version": "3.8.8"
  }
 },
 "nbformat": 4,
 "nbformat_minor": 5
}
