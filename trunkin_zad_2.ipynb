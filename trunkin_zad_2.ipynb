{
 "cells": [
  {
   "cell_type": "code",
   "execution_count": 1,
   "id": "c74d8c8e",
   "metadata": {},
   "outputs": [],
   "source": [
    "import random\n",
    " \n",
    "from collections import Counter, OrderedDict\n",
    "\n",
    "import string"
   ]
  },
  {
   "cell_type": "code",
   "execution_count": 2,
   "id": "e94b27f6",
   "metadata": {},
   "outputs": [],
   "source": [
    "def function2(n_customers, n_first_id):\n",
    "    id = random.sample(range(1000000, 9999999), n_customers)\n",
    "#     map(int, str(n_first_id))\n",
    "    id[0] = n_first_id\n",
    "    result = list()\n",
    "    def sum_digits(n):\n",
    "       r = 0\n",
    "       while n:\n",
    "           r, n = r + n % 10, n // 10\n",
    "       return r\n",
    "    for i in range(len(id)):\n",
    "        n = id[i]\n",
    "        a = sum_digits(n)\n",
    "        result.append(a)\n",
    "    class OrderedCounter(Counter, OrderedDict):\n",
    "     def __repr__(self):\n",
    "         return '%s(%r)' % (self.__class__.__name__,\n",
    "                            OrderedDict(self))\n",
    "     def __reduce__(self):\n",
    "         return self.__class__, (OrderedDict(self),)\n",
    "    counts = OrderedCounter(result)\n",
    "    display(counts)"
   ]
  },
  {
   "cell_type": "code",
   "execution_count": 3,
   "id": "b725ac30",
   "metadata": {},
   "outputs": [
    {
     "data": {
      "text/plain": [
       "OrderedCounter(OrderedDict([(32, 4), (18, 1), (23, 4), (38, 4), (33, 11), (34, 4), (31, 3), (36, 5), (52, 1), (13, 2), (24, 1), (14, 1), (30, 7), (28, 5), (19, 2), (35, 4), (40, 2), (29, 4), (22, 4), (44, 3), (46, 3), (21, 3), (43, 3), (39, 3), (26, 2), (42, 3), (37, 2), (41, 2), (45, 3), (25, 1), (15, 1), (27, 1), (47, 1)]))"
      ]
     },
     "metadata": {},
     "output_type": "display_data"
    }
   ],
   "source": [
    "function2(100, 7412567)"
   ]
  }
 ],
 "metadata": {
  "kernelspec": {
   "display_name": "Python 3",
   "language": "python",
   "name": "python3"
  },
  "language_info": {
   "codemirror_mode": {
    "name": "ipython",
    "version": 3
   },
   "file_extension": ".py",
   "mimetype": "text/x-python",
   "name": "python",
   "nbconvert_exporter": "python",
   "pygments_lexer": "ipython3",
   "version": "3.8.8"
  }
 },
 "nbformat": 4,
 "nbformat_minor": 5
}
