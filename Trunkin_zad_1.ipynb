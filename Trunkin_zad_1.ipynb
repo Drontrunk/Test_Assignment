{
 "cells": [
  {
   "cell_type": "code",
   "execution_count": 65,
   "id": "3d21e1e9",
   "metadata": {},
   "outputs": [],
   "source": [
    "from itertools import groupby\n",
    "\n",
    "import random\n",
    " \n",
    "from collections import Counter, OrderedDict\n",
    "\n",
    "import string"
   ]
  },
  {
   "cell_type": "code",
   "execution_count": 116,
   "id": "95a5408d",
   "metadata": {},
   "outputs": [],
   "source": [
    "def function1(n_customers):\n",
    "#     id_list = random.sample(range(10000, 9999999), n_customers)\n",
    "    id_list = ''.join(random.choices(string.digits, k=n_customers))\n",
    "    id_list = id_list.split(\"0\")\n",
    "    display(id_list)\n",
    "    class OrderedCounter(Counter, OrderedDict):\n",
    "         def __repr__(self):\n",
    "             return '%s(%r)' % (self.__class__.__name__,\n",
    "                                OrderedDict(self))\n",
    "         def __reduce__(self):\n",
    "             return self.__class__, (OrderedDict(self),)\n",
    "    counts = OrderedCounter(id_list)\n",
    "    display(counts)"
   ]
  },
  {
   "cell_type": "code",
   "execution_count": 117,
   "id": "8e48d36a",
   "metadata": {},
   "outputs": [
    {
     "data": {
      "text/plain": [
       "['557',\n",
       " '72719188',\n",
       " '2137713895527843',\n",
       " '62',\n",
       " '59912996342643836785573592325',\n",
       " '295',\n",
       " '4',\n",
       " '429548243585',\n",
       " '185846',\n",
       " '81651196199']"
      ]
     },
     "metadata": {},
     "output_type": "display_data"
    },
    {
     "data": {
      "text/plain": [
       "OrderedCounter(OrderedDict([('557', 1), ('72719188', 1), ('2137713895527843', 1), ('62', 1), ('59912996342643836785573592325', 1), ('295', 1), ('4', 1), ('429548243585', 1), ('185846', 1), ('81651196199', 1)]))"
      ]
     },
     "metadata": {},
     "output_type": "display_data"
    }
   ],
   "source": [
    "function1(100)"
   ]
  }
 ],
 "metadata": {
  "kernelspec": {
   "display_name": "Python 3",
   "language": "python",
   "name": "python3"
  },
  "language_info": {
   "codemirror_mode": {
    "name": "ipython",
    "version": 3
   },
   "file_extension": ".py",
   "mimetype": "text/x-python",
   "name": "python",
   "nbconvert_exporter": "python",
   "pygments_lexer": "ipython3",
   "version": "3.8.8"
  }
 },
 "nbformat": 4,
 "nbformat_minor": 5
}
